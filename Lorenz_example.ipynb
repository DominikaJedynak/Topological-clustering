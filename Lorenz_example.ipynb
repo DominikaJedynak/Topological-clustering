{
 "cells": [
  {
   "cell_type": "markdown",
   "id": "bf9da9af",
   "metadata": {},
   "source": [
    "Example based on https://github.com/CybJaz/dyrect"
   ]
  },
  {
   "cell_type": "code",
   "execution_count": 7,
   "id": "d16d265c",
   "metadata": {},
   "outputs": [
    {
     "data": {
      "text/plain": [
       "(348, 3)"
      ]
     },
     "execution_count": 7,
     "metadata": {},
     "output_type": "execute_result"
    }
   ],
   "source": [
    "from plyfile import PlyData\n",
    "import numpy as np\n",
    "\n",
    "def load_ply_model(filename):\n",
    "    plydata = PlyData.read(filename)\n",
    "    coords = np.array([list(x) for x in plydata.elements[0].data])\n",
    "    return coords\n",
    "\n",
    "lms = load_ply_model('lorenz_model_20.ply')\n",
    "lms.shape"
   ]
  },
  {
   "cell_type": "code",
   "execution_count": 8,
   "id": "8f9ea2e5",
   "metadata": {},
   "outputs": [
    {
     "ename": "NameError",
     "evalue": "name 'np' is not defined",
     "output_type": "error",
     "traceback": [
      "\u001b[0;31m---------------------------------------------------------------------------\u001b[0m",
      "\u001b[0;31mNameError\u001b[0m                                 Traceback (most recent call last)",
      "Cell \u001b[0;32mIn[8], line 3\u001b[0m\n\u001b[1;32m      1\u001b[0m \u001b[38;5;28;01mfrom\u001b[39;00m \u001b[38;5;21;01msrc\u001b[39;00m \u001b[38;5;28;01mimport\u001b[39;00m Complex\n\u001b[1;32m      2\u001b[0m rips_lms \u001b[38;5;241m=\u001b[39m Complex(lms[:\u001b[38;5;241m150\u001b[39m], \u001b[38;5;241m5\u001b[39m)\n\u001b[0;32m----> 3\u001b[0m \u001b[43mrips_lms\u001b[49m\u001b[38;5;241;43m.\u001b[39;49m\u001b[43mdraw_complex\u001b[49m\u001b[43m(\u001b[49m\u001b[43m)\u001b[49m\n",
      "File \u001b[0;32m~/Topological_clustering/src/complex_datastructure.py:38\u001b[0m, in \u001b[0;36mComplex.draw_complex\u001b[0;34m(self, show_now)\u001b[0m\n\u001b[1;32m     37\u001b[0m \u001b[38;5;28;01mdef\u001b[39;00m \u001b[38;5;21mdraw_complex\u001b[39m(\u001b[38;5;28mself\u001b[39m, show_now\u001b[38;5;241m=\u001b[39m\u001b[38;5;28;01mTrue\u001b[39;00m):\n\u001b[0;32m---> 38\u001b[0m     triangles \u001b[38;5;241m=\u001b[39m \u001b[38;5;28;43mself\u001b[39;49m\u001b[38;5;241;43m.\u001b[39;49m\u001b[43mtwo_simplexes\u001b[49m\u001b[43m(\u001b[49m\u001b[43m)\u001b[49m\n\u001b[1;32m     39\u001b[0m     lines \u001b[38;5;241m=\u001b[39m \u001b[38;5;28mself\u001b[39m\u001b[38;5;241m.\u001b[39mone_simplexes()\n\u001b[1;32m     41\u001b[0m     data \u001b[38;5;241m=\u001b[39m [\n\u001b[1;32m     42\u001b[0m         go\u001b[38;5;241m.\u001b[39mScatter3d(x\u001b[38;5;241m=\u001b[39m\u001b[38;5;28mself\u001b[39m\u001b[38;5;241m.\u001b[39mpoints[:,\u001b[38;5;241m0\u001b[39m],y\u001b[38;5;241m=\u001b[39m\u001b[38;5;28mself\u001b[39m\u001b[38;5;241m.\u001b[39mpoints[:,\u001b[38;5;241m1\u001b[39m], z\u001b[38;5;241m=\u001b[39m\u001b[38;5;28mself\u001b[39m\u001b[38;5;241m.\u001b[39mpoints[:,\u001b[38;5;241m2\u001b[39m], mode\u001b[38;5;241m=\u001b[39m\u001b[38;5;124m'\u001b[39m\u001b[38;5;124mmarkers\u001b[39m\u001b[38;5;124m'\u001b[39m),\n\u001b[1;32m     43\u001b[0m     ]\n",
      "File \u001b[0;32m~/Topological_clustering/src/complex_datastructure.py:24\u001b[0m, in \u001b[0;36mComplex.two_simplexes\u001b[0;34m(self)\u001b[0m\n\u001b[1;32m     23\u001b[0m \u001b[38;5;28;01mdef\u001b[39;00m \u001b[38;5;21mtwo_simplexes\u001b[39m(\u001b[38;5;28mself\u001b[39m):\n\u001b[0;32m---> 24\u001b[0m     \u001b[38;5;28;01mreturn\u001b[39;00m \u001b[43mnp\u001b[49m\u001b[38;5;241m.\u001b[39marray([s[\u001b[38;5;241m0\u001b[39m] \u001b[38;5;28;01mfor\u001b[39;00m s \u001b[38;5;129;01min\u001b[39;00m \u001b[38;5;28mself\u001b[39m\u001b[38;5;241m.\u001b[39mcomplex\u001b[38;5;241m.\u001b[39mget_skeleton(\u001b[38;5;241m2\u001b[39m) \u001b[38;5;28;01mif\u001b[39;00m \u001b[38;5;28mlen\u001b[39m(s[\u001b[38;5;241m0\u001b[39m])\u001b[38;5;241m==\u001b[39m\u001b[38;5;241m3\u001b[39m])\n",
      "\u001b[0;31mNameError\u001b[0m: name 'np' is not defined"
     ]
    }
   ],
   "source": [
    "from src import Complex\n",
    "rips_lms = Complex(lms[:150], 5)\n",
    "rips_lms.draw_complex()"
   ]
  },
  {
   "cell_type": "code",
   "execution_count": null,
   "id": "8c7f61e4",
   "metadata": {},
   "outputs": [],
   "source": []
  }
 ],
 "metadata": {
  "kernelspec": {
   "display_name": "Python 3 (ipykernel)",
   "language": "python",
   "name": "python3"
  },
  "language_info": {
   "codemirror_mode": {
    "name": "ipython",
    "version": 3
   },
   "file_extension": ".py",
   "mimetype": "text/x-python",
   "name": "python",
   "nbconvert_exporter": "python",
   "pygments_lexer": "ipython3",
   "version": "3.8.16"
  }
 },
 "nbformat": 4,
 "nbformat_minor": 5
}
