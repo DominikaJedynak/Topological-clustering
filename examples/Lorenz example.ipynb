{
 "cells": [
  {
   "cell_type": "markdown",
   "id": "bf9da9af",
   "metadata": {},
   "source": [
    "Example based on https://github.com/CybJaz/dyrect"
   ]
  },
  {
   "cell_type": "code",
   "execution_count": null,
   "id": "d16d265c",
   "metadata": {},
   "outputs": [],
   "source": [
    "from plyfile import PlyData\n",
    "import numpy as np\n",
    "\n",
    "def load_ply_model(filename):\n",
    "    plydata = PlyData.read(filename)\n",
    "    coords = np.array([list(x) for x in plydata.elements[0].data])\n",
    "    return coords\n",
    "\n",
    "lms = load_ply_model('lorenz_model_20.ply')\n",
    "lms.shape"
   ]
  },
  {
   "cell_type": "code",
   "execution_count": 2,
   "id": "8f9ea2e5",
   "metadata": {},
   "outputs": [
    {
     "ename": "SyntaxError",
     "evalue": "invalid syntax (3636885344.py, line 1)",
     "output_type": "error",
     "traceback": [
      "\u001b[0;36m  Cell \u001b[0;32mIn[2], line 1\u001b[0;36m\u001b[0m\n\u001b[0;31m    import \"../complex_datastructure.py\"\u001b[0m\n\u001b[0m           ^\u001b[0m\n\u001b[0;31mSyntaxError\u001b[0m\u001b[0;31m:\u001b[0m invalid syntax\n"
     ]
    }
   ],
   "source": [
    "import src\n",
    "rips_lms = Complex(lms[:150], 5)\n",
    "rips_lms.draw_complex()"
   ]
  },
  {
   "cell_type": "code",
   "execution_count": null,
   "id": "8c7f61e4",
   "metadata": {},
   "outputs": [],
   "source": []
  }
 ],
 "metadata": {
  "kernelspec": {
   "display_name": "Python 3 (ipykernel)",
   "language": "python",
   "name": "python3"
  },
  "language_info": {
   "codemirror_mode": {
    "name": "ipython",
    "version": 3
   },
   "file_extension": ".py",
   "mimetype": "text/x-python",
   "name": "python",
   "nbconvert_exporter": "python",
   "pygments_lexer": "ipython3",
   "version": "3.8.16"
  }
 },
 "nbformat": 4,
 "nbformat_minor": 5
}
